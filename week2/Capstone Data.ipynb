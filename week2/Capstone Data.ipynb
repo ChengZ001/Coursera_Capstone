{
    "cells": [
        {
            "cell_type": "markdown",
            "metadata": {
                "collapsed": true
            },
            "source": "Data decission"
        },
        {
            "cell_type": "markdown",
            "metadata": {},
            "source": "Based on definition of our problem, factors that will influence our decission are:\n\n1.finding the safest area based on crime statistics\n2.finding the most common venues\n3. choosing the right neighbourhood within the are\n\n\n\ndata sources\nA dataset consisting of the crime statistics of each Neighbourhoof in Vancouver along with type of crime, recorded year, month and hour.\n\n*   TYPE - Crime type\n*   MONTH-DAY-YEAR\n*   HUNDRED_BLOCK \n*   NEIGHBOURHOOD \n*   GPS longtitude\n*   GPS latitude\n\nData URL: https://www.kaggle.com/agilesifaka/vancouver-crime-report/version/2\n"
        },
        {
            "cell_type": "code",
            "execution_count": null,
            "metadata": {},
            "outputs": [],
            "source": ""
        }
    ],
    "metadata": {
        "kernelspec": {
            "display_name": "Python 3.6",
            "language": "python",
            "name": "python3"
        },
        "language_info": {
            "codemirror_mode": {
                "name": "ipython",
                "version": 3
            },
            "file_extension": ".py",
            "mimetype": "text/x-python",
            "name": "python",
            "nbconvert_exporter": "python",
            "pygments_lexer": "ipython3",
            "version": "3.6.9"
        }
    },
    "nbformat": 4,
    "nbformat_minor": 1
}