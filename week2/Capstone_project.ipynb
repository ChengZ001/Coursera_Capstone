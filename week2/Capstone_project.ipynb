{
    "cells": [
        {
            "cell_type": "markdown",
            "metadata": {},
            "source": "# Introduction/Business Problem"
        },
        {
            "cell_type": "markdown",
            "metadata": {},
            "source": "this project is to find a safe and secure living area in Vancouver, Canada. Specifically, this report will be targeted to stakeholders interested in opening any business in Vancouver.\n\nThe first task would be to chose a safe area by analysing crime data.\n\nusing data science tools to analyse and focus on the safest area and explore its neighborhoods and the 10 most common venues in each neighborhood."
        },
        {
            "cell_type": "markdown",
            "metadata": {
                "collapsed": true
            },
            "source": "# Data description"
        },
        {
            "cell_type": "markdown",
            "metadata": {},
            "source": "Based on definition of our problem, factors that will influence our decission are:\n\n1. finding the safest area based on crime statistics\n2. finding the most common venues\n3. choosing the right neighbourhood within the area\n\n\ndata sources\nUsing a real world data  from Kaggle\nA data consisting of the crime statistics of each Neighbourhoof in Vancouver\n\n*   TYPE - Crime type\n*   MONTH-DAY-YEAR\n*   HUNDRED_BLOCK \n*   NEIGHBOURHOOD \n*   GPS longtitude\n*   GPS latitude\n\nData URL: https://www.kaggle.com/agilesifaka/vancouver-crime-report/version/2\n"
        },
        {
            "cell_type": "code",
            "execution_count": null,
            "metadata": {},
            "outputs": [],
            "source": ""
        }
    ],
    "metadata": {
        "kernelspec": {
            "display_name": "Python 3.6",
            "language": "python",
            "name": "python3"
        },
        "language_info": {
            "codemirror_mode": {
                "name": "ipython",
                "version": 3
            },
            "file_extension": ".py",
            "mimetype": "text/x-python",
            "name": "python",
            "nbconvert_exporter": "python",
            "pygments_lexer": "ipython3",
            "version": "3.6.9"
        }
    },
    "nbformat": 4,
    "nbformat_minor": 1
}