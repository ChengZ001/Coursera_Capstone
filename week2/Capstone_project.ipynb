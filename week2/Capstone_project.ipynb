{
    "cells": [
        {
            "cell_type": "markdown",
            "metadata": {},
            "source": "# Introduction/Business Problem"
        },
        {
            "cell_type": "markdown",
            "metadata": {},
            "source": "this project is to find a safe and secure living area in Vancouver, Canada. Specifically, this report will be targeted to stakeholders interested in opening any business in Vancouver.\n\nThe first task would be to chose a safe area by analysing crime data.\n\nusing data science tools to analyse and focus on the safest area and explore its neighborhoods and the 10 most common venues in each neighborhood."
        },
        {
            "cell_type": "markdown",
            "metadata": {
                "collapsed": true
            },
            "source": "# Data description"
        },
        {
            "cell_type": "markdown",
            "metadata": {},
            "source": "Based on definition of our problem, factors that will influence our decission are:\n\n1. finding the safest area based on crime statistics\n2. finding the most common venues\n3. choosing the right neighbourhood within the area\n\n\n\ndata sources\nA dataset consisting of the crime statistics of each Neighbourhoof in Vancouver along with type of crime, recorded year, month and hour.\n\n*   TYPE - Crime type\n*   MONTH-DAY-YEAR\n*   HUNDRED_BLOCK \n*   NEIGHBOURHOOD \n*   GPS longtitude\n*   GPS latitude\n\nData URL: https://www.kaggle.com/agilesifaka/vancouver-crime-report/version/2\n"
        },
        {
            "cell_type": "markdown",
            "metadata": {},
            "source": "code:"
        },
        {
            "cell_type": "code",
            "execution_count": 1,
            "metadata": {},
            "outputs": [
                {
                    "name": "stdout",
                    "output_type": "stream",
                    "text": "Collecting opencage\n  Downloading https://files.pythonhosted.org/packages/00/6b/05922eb2ea69713f3c9e355649d8c905a7a0880e9511b7b10d6dedeb859e/opencage-1.2.1-py3-none-any.whl\nRequirement already satisfied: Requests>=2.2.0 in /opt/conda/envs/Python36/lib/python3.6/site-packages (from opencage) (2.21.0)\nRequirement already satisfied: six>=1.4.0 in /opt/conda/envs/Python36/lib/python3.6/site-packages (from opencage) (1.12.0)\nRequirement already satisfied: pyopenssl>=0.15.1 in /opt/conda/envs/Python36/lib/python3.6/site-packages (from opencage) (19.0.0)\nCollecting backoff>=1.10.0 (from opencage)\n  Downloading https://files.pythonhosted.org/packages/f0/32/c5dd4f4b0746e9ec05ace2a5045c1fc375ae67ee94355344ad6c7005fd87/backoff-1.10.0-py2.py3-none-any.whl\nRequirement already satisfied: urllib3<1.25,>=1.21.1 in /opt/conda/envs/Python36/lib/python3.6/site-packages (from Requests>=2.2.0->opencage) (1.24.1)\nRequirement already satisfied: certifi>=2017.4.17 in /opt/conda/envs/Python36/lib/python3.6/site-packages (from Requests>=2.2.0->opencage) (2020.6.20)\nRequirement already satisfied: idna<2.9,>=2.5 in /opt/conda/envs/Python36/lib/python3.6/site-packages (from Requests>=2.2.0->opencage) (2.8)\nRequirement already satisfied: chardet<3.1.0,>=3.0.2 in /opt/conda/envs/Python36/lib/python3.6/site-packages (from Requests>=2.2.0->opencage) (3.0.4)\nRequirement already satisfied: cryptography>=2.3 in /opt/conda/envs/Python36/lib/python3.6/site-packages (from pyopenssl>=0.15.1->opencage) (2.5)\nRequirement already satisfied: asn1crypto>=0.21.0 in /opt/conda/envs/Python36/lib/python3.6/site-packages (from cryptography>=2.3->pyopenssl>=0.15.1->opencage) (0.24.0)\nRequirement already satisfied: cffi!=1.11.3,>=1.8 in /opt/conda/envs/Python36/lib/python3.6/site-packages (from cryptography>=2.3->pyopenssl>=0.15.1->opencage) (1.11.5)\nRequirement already satisfied: pycparser in /opt/conda/envs/Python36/lib/python3.6/site-packages (from cffi!=1.11.3,>=1.8->cryptography>=2.3->pyopenssl>=0.15.1->opencage) (2.19)\nInstalling collected packages: backoff, opencage\nSuccessfully installed backoff-1.10.0 opencage-1.2.1\nCollecting folium\n\u001b[?25l  Downloading https://files.pythonhosted.org/packages/a4/f0/44e69d50519880287cc41e7c8a6acc58daa9a9acf5f6afc52bcc70f69a6d/folium-0.11.0-py2.py3-none-any.whl (93kB)\n\u001b[K     |\u2588\u2588\u2588\u2588\u2588\u2588\u2588\u2588\u2588\u2588\u2588\u2588\u2588\u2588\u2588\u2588\u2588\u2588\u2588\u2588\u2588\u2588\u2588\u2588\u2588\u2588\u2588\u2588\u2588\u2588\u2588\u2588| 102kB 5.8MB/s ta 0:00:011\n\u001b[?25hRequirement already satisfied: numpy in /opt/conda/envs/Python36/lib/python3.6/site-packages (from folium) (1.15.4)\nCollecting branca>=0.3.0 (from folium)\n  Downloading https://files.pythonhosted.org/packages/13/fb/9eacc24ba3216510c6b59a4ea1cd53d87f25ba76237d7f4393abeaf4c94e/branca-0.4.1-py3-none-any.whl\nRequirement already satisfied: jinja2>=2.9 in /opt/conda/envs/Python36/lib/python3.6/site-packages (from folium) (2.10)\nRequirement already satisfied: requests in /opt/conda/envs/Python36/lib/python3.6/site-packages (from folium) (2.21.0)\nRequirement already satisfied: MarkupSafe>=0.23 in /opt/conda/envs/Python36/lib/python3.6/site-packages (from jinja2>=2.9->folium) (1.1.0)\nRequirement already satisfied: urllib3<1.25,>=1.21.1 in /opt/conda/envs/Python36/lib/python3.6/site-packages (from requests->folium) (1.24.1)\nRequirement already satisfied: idna<2.9,>=2.5 in /opt/conda/envs/Python36/lib/python3.6/site-packages (from requests->folium) (2.8)\nRequirement already satisfied: certifi>=2017.4.17 in /opt/conda/envs/Python36/lib/python3.6/site-packages (from requests->folium) (2020.6.20)\nRequirement already satisfied: chardet<3.1.0,>=3.0.2 in /opt/conda/envs/Python36/lib/python3.6/site-packages (from requests->folium) (3.0.4)\nInstalling collected packages: branca, folium\nSuccessfully installed branca-0.4.1 folium-0.11.0\n"
                }
            ],
            "source": "!pip install opencage\n!pip install folium"
        },
        {
            "cell_type": "code",
            "execution_count": 5,
            "metadata": {},
            "outputs": [
                {
                    "name": "stdout",
                    "output_type": "stream",
                    "text": "Matplotlib version:  3.0.2\nLibraries imported\n"
                }
            ],
            "source": "\nimport numpy as np\nimport pandas as pd\nfrom opencage.geocoder import OpenCageGeocode\n%matplotlib inline \nimport matplotlib as mpl\nimport matplotlib.pyplot as plt\nmpl.style.use('ggplot')\nimport matplotlib.cm as cm\nimport matplotlib.colors as colors\nimport folium\nimport requests\nfrom pandas.io.json import json_normalize\nfrom sklearn.cluster import KMeans\n\n"
        },
        {
            "cell_type": "code",
            "execution_count": 26,
            "metadata": {},
            "outputs": [
                {
                    "data": {
                        "text/html": "<div>\n<style scoped>\n    .dataframe tbody tr th:only-of-type {\n        vertical-align: middle;\n    }\n\n    .dataframe tbody tr th {\n        vertical-align: top;\n    }\n\n    .dataframe thead th {\n        text-align: right;\n    }\n</style>\n<table border=\"1\" class=\"dataframe\">\n  <thead>\n    <tr style=\"text-align: right;\">\n      <th></th>\n      <th>TYPE</th>\n      <th>YEAR</th>\n      <th>MONTH</th>\n      <th>DAY</th>\n      <th>HOUR</th>\n      <th>MINUTE</th>\n      <th>HUNDRED_BLOCK</th>\n      <th>NEIGHBOURHOOD</th>\n      <th>X</th>\n      <th>Y</th>\n    </tr>\n  </thead>\n  <tbody>\n    <tr>\n      <th>0</th>\n      <td>Break and Enter Commercial</td>\n      <td>2012</td>\n      <td>12</td>\n      <td>14</td>\n      <td>8</td>\n      <td>52</td>\n      <td>NaN</td>\n      <td>Oakridge</td>\n      <td>491285.000000</td>\n      <td>5.453433e+06</td>\n    </tr>\n    <tr>\n      <th>1</th>\n      <td>Break and Enter Commercial</td>\n      <td>2019</td>\n      <td>3</td>\n      <td>7</td>\n      <td>2</td>\n      <td>6</td>\n      <td>10XX SITKA SQ</td>\n      <td>Fairview</td>\n      <td>490612.964805</td>\n      <td>5.457110e+06</td>\n    </tr>\n    <tr>\n      <th>2</th>\n      <td>Break and Enter Commercial</td>\n      <td>2019</td>\n      <td>8</td>\n      <td>27</td>\n      <td>4</td>\n      <td>12</td>\n      <td>10XX ALBERNI ST</td>\n      <td>West End</td>\n      <td>491007.779775</td>\n      <td>5.459174e+06</td>\n    </tr>\n    <tr>\n      <th>3</th>\n      <td>Break and Enter Commercial</td>\n      <td>2014</td>\n      <td>8</td>\n      <td>8</td>\n      <td>5</td>\n      <td>13</td>\n      <td>10XX ALBERNI ST</td>\n      <td>West End</td>\n      <td>491015.943352</td>\n      <td>5.459166e+06</td>\n    </tr>\n    <tr>\n      <th>4</th>\n      <td>Break and Enter Commercial</td>\n      <td>2005</td>\n      <td>11</td>\n      <td>14</td>\n      <td>3</td>\n      <td>9</td>\n      <td>10XX ALBERNI ST</td>\n      <td>West End</td>\n      <td>491021.385727</td>\n      <td>5.459161e+06</td>\n    </tr>\n  </tbody>\n</table>\n</div>",
                        "text/plain": "                         TYPE  YEAR  MONTH  DAY  HOUR  MINUTE  \\\n0  Break and Enter Commercial  2012     12   14     8      52   \n1  Break and Enter Commercial  2019      3    7     2       6   \n2  Break and Enter Commercial  2019      8   27     4      12   \n3  Break and Enter Commercial  2014      8    8     5      13   \n4  Break and Enter Commercial  2005     11   14     3       9   \n\n     HUNDRED_BLOCK NEIGHBOURHOOD              X             Y  \n0              NaN      Oakridge  491285.000000  5.453433e+06  \n1    10XX SITKA SQ      Fairview  490612.964805  5.457110e+06  \n2  10XX ALBERNI ST      West End  491007.779775  5.459174e+06  \n3  10XX ALBERNI ST      West End  491015.943352  5.459166e+06  \n4  10XX ALBERNI ST      West End  491021.385727  5.459161e+06  "
                    },
                    "execution_count": 26,
                    "metadata": {},
                    "output_type": "execute_result"
                }
            ],
            "source": "# The code was removed by Watson Studio for sharing."
        },
        {
            "cell_type": "code",
            "execution_count": 27,
            "metadata": {},
            "outputs": [
                {
                    "data": {
                        "text/html": "<div>\n<style scoped>\n    .dataframe tbody tr th:only-of-type {\n        vertical-align: middle;\n    }\n\n    .dataframe tbody tr th {\n        vertical-align: top;\n    }\n\n    .dataframe thead th {\n        text-align: right;\n    }\n</style>\n<table border=\"1\" class=\"dataframe\">\n  <thead>\n    <tr style=\"text-align: right;\">\n      <th></th>\n      <th>TYPE</th>\n      <th>YEAR</th>\n      <th>MONTH</th>\n      <th>DAY</th>\n      <th>HOUR</th>\n      <th>NEIGHBOURHOOD</th>\n    </tr>\n  </thead>\n  <tbody>\n    <tr>\n      <th>0</th>\n      <td>Break and Enter Commercial</td>\n      <td>2012</td>\n      <td>12</td>\n      <td>14</td>\n      <td>8</td>\n      <td>Oakridge</td>\n    </tr>\n    <tr>\n      <th>1</th>\n      <td>Break and Enter Commercial</td>\n      <td>2019</td>\n      <td>3</td>\n      <td>7</td>\n      <td>2</td>\n      <td>Fairview</td>\n    </tr>\n    <tr>\n      <th>2</th>\n      <td>Break and Enter Commercial</td>\n      <td>2019</td>\n      <td>8</td>\n      <td>27</td>\n      <td>4</td>\n      <td>West End</td>\n    </tr>\n    <tr>\n      <th>3</th>\n      <td>Break and Enter Commercial</td>\n      <td>2014</td>\n      <td>8</td>\n      <td>8</td>\n      <td>5</td>\n      <td>West End</td>\n    </tr>\n    <tr>\n      <th>4</th>\n      <td>Break and Enter Commercial</td>\n      <td>2005</td>\n      <td>11</td>\n      <td>14</td>\n      <td>3</td>\n      <td>West End</td>\n    </tr>\n  </tbody>\n</table>\n</div>",
                        "text/plain": "                         TYPE  YEAR  MONTH  DAY  HOUR NEIGHBOURHOOD\n0  Break and Enter Commercial  2012     12   14     8      Oakridge\n1  Break and Enter Commercial  2019      3    7     2      Fairview\n2  Break and Enter Commercial  2019      8   27     4      West End\n3  Break and Enter Commercial  2014      8    8     5      West End\n4  Break and Enter Commercial  2005     11   14     3      West End"
                    },
                    "execution_count": 27,
                    "metadata": {},
                    "output_type": "execute_result"
                }
            ],
            "source": "crime_records_df.drop(['MINUTE', 'HUNDRED_BLOCK', 'X', 'Y'], axis = 1, inplace = True)\n\n\n\ncrime_records_df.head()"
        },
        {
            "cell_type": "code",
            "execution_count": null,
            "metadata": {},
            "outputs": [],
            "source": ""
        }
    ],
    "metadata": {
        "kernelspec": {
            "display_name": "Python 3.6",
            "language": "python",
            "name": "python3"
        },
        "language_info": {
            "codemirror_mode": {
                "name": "ipython",
                "version": 3
            },
            "file_extension": ".py",
            "mimetype": "text/x-python",
            "name": "python",
            "nbconvert_exporter": "python",
            "pygments_lexer": "ipython3",
            "version": "3.6.9"
        }
    },
    "nbformat": 4,
    "nbformat_minor": 1
}